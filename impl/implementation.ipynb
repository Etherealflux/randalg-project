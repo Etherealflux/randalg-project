{
 "cells": [
  {
   "cell_type": "code",
   "execution_count": null,
   "metadata": {},
   "outputs": [],
   "source": [
    "import numpy as np\n",
    "import math\n",
    "import importlib\n",
    "import sys\n",
    "import time\n",
    "import gc\n",
    "from joblib import Parallel, delayed, parallel_backend"
   ]
  },
  {
   "cell_type": "code",
   "execution_count": null,
   "metadata": {},
   "outputs": [],
   "source": [
    "gc.collect(2)"
   ]
  },
  {
   "cell_type": "code",
   "execution_count": null,
   "metadata": {},
   "outputs": [],
   "source": [
    "# just setting up logging\n",
    "\n",
    "import logging\n",
    "from logging import debug\n",
    "\n",
    "def config_log():\n",
    "    FORMAT = \"%(message)s\"\n",
    "    LEVEL = logging.ERROR\n",
    "    STREAM = sys.stdout\n",
    "    importlib.reload(logging)\n",
    "    logging.basicConfig(format=FORMAT, level=LEVEL, stream=STREAM)\n",
    "    \n",
    "config_log()"
   ]
  },
  {
   "cell_type": "markdown",
   "metadata": {},
   "source": [
    "# Explicit Triangle Counting"
   ]
  },
  {
   "cell_type": "code",
   "execution_count": null,
   "metadata": {},
   "outputs": [],
   "source": [
    "def ExactTriangles(A, gamma):\n",
    "    A3 = A.dot(A.dot(A))\n",
    "    return math.floor(np.trace(A3) / 6)"
   ]
  },
  {
   "cell_type": "markdown",
   "metadata": {},
   "source": [
    "# Algorithm 1"
   ]
  },
  {
   "cell_type": "code",
   "execution_count": null,
   "metadata": {},
   "outputs": [],
   "source": [
    "# args: adjacency matrix of size n\n",
    "\n",
    "def TraceTriangleN(A, gamma, parallel = True):\n",
    "    # line 1\n",
    "    \n",
    "    n = A.shape[0]\n",
    "    debug(\"n: {0}\".format(n))\n",
    "    \n",
    "    # line 2\n",
    "    \n",
    "    M = math.ceil(gamma * math.pow(math.log(n), 2))\n",
    "    debug(\"M: {0}\".format(M))\n",
    "    \n",
    "    # line 3\n",
    "    \n",
    "    if parallel:\n",
    "        with parallel_backend('threading', n_jobs=8):\n",
    "            T = Parallel()(delayed(TraceTriangleN_Loop)(A, n) for i in range(M))\n",
    "    else:\n",
    "        T = [TraceTriangleN_Loop(A, n) for i in range(M)]\n",
    "    # line 7\n",
    "    \n",
    "    # line 8\n",
    "    \n",
    "    Delta = 0\n",
    "    \n",
    "    for i in range(M):\n",
    "        Delta += T[i] / M\n",
    "        \n",
    "    return Delta\n",
    "\n",
    "def TraceTriangleN_Loop(A, n):\n",
    "    #line 4\n",
    "\n",
    "    x = np.random.normal(size = n)\n",
    "\n",
    "    # line 5\n",
    "\n",
    "    y = A.dot(x)\n",
    "\n",
    "    # line 6\n",
    "\n",
    "    return y.T.dot(A.dot(y)) / 6\n"
   ]
  },
  {
   "cell_type": "markdown",
   "metadata": {},
   "source": [
    "# Modified  Algorithm 1"
   ]
  },
  {
   "cell_type": "code",
   "execution_count": null,
   "metadata": {},
   "outputs": [],
   "source": [
    "# args: adjacency matrix of size n\n",
    "\n",
    "def TraceTriangleR(A, gamma, parallel=True):\n",
    "    # line 1\n",
    "    \n",
    "    n = A.shape[0]\n",
    "    debug(\"n: {0}\".format(n))\n",
    "    \n",
    "    # line 2\n",
    "    \n",
    "    M = math.ceil(gamma * math.pow(math.log(n), 2))\n",
    "    debug(\"M: {0}\".format(M))\n",
    "    \n",
    "    # line 3\n",
    "    \n",
    "    if parallel:\n",
    "        with parallel_backend('threading', n_jobs=8):\n",
    "            T = Parallel()(delayed(TraceTriangleR_Loop)(A, n) for i in range(M))\n",
    "    else:\n",
    "        T = [TraceTriangleR_Loop(A, n) for i in range(M)]\n",
    "        \n",
    "    # line 7\n",
    "    \n",
    "    # line 8\n",
    "    \n",
    "    Delta = 0\n",
    "    \n",
    "    for i in range(M):\n",
    "        Delta += T[i] / M\n",
    "        \n",
    "    return Delta\n",
    "\n",
    "def TraceTriangleR_Loop(A, n):\n",
    "    #line 4\n",
    "\n",
    "    x = np.random.choice(np.array([-1, 1]), size=n)\n",
    "\n",
    "    debug(x)\n",
    "\n",
    "    # line 5\n",
    "\n",
    "    y = A.dot(x)\n",
    "\n",
    "    # line 6\n",
    "\n",
    "    return y.T.dot(A.dot(y)) / 6"
   ]
  },
  {
   "cell_type": "markdown",
   "metadata": {},
   "source": [
    "# Algorithm 2"
   ]
  },
  {
   "cell_type": "code",
   "execution_count": null,
   "metadata": {},
   "outputs": [],
   "source": [
    "def TraceTriangleM(A, gamma):\n",
    "    # line 1\n",
    "    \n",
    "    n = A.shape[0]\n",
    "    \n",
    "    # line 2\n",
    "    \n",
    "    D_vec = np.random.choice(np.array([-1, 1]), size=n)\n",
    "    \n",
    "    D = np.diagflat(D_vec)\n",
    "    \n",
    "    debug(D)\n",
    "    \n",
    "    # line 3\n",
    "    \n",
    "    M = math.ceil(gamma * math.pow(math.log(n), 2))\n",
    "    debug(\"M: {0}\".format(M))\n",
    "    \n",
    "    # line 4\n",
    "    \n",
    "    T = np.zeros(M)\n",
    "    AD = A.dot(D)\n",
    "    \n",
    "    for i in range(M):\n",
    "        T[i] = TraceTriangleM_Loop(A, AD, n)\n",
    "        \n",
    "    # line 9\n",
    "    \n",
    "    Delta = 0\n",
    "    \n",
    "    for i in range(M):\n",
    "        Delta += T[i] / M\n",
    "        \n",
    "    return Delta\n",
    "\n",
    "def TraceTriangleM_Loop(A, AD, n):\n",
    "    # line 5\n",
    "        \n",
    "    j = np.random.randint(low = 1, high = n+1)\n",
    "    debug(j)\n",
    "\n",
    "    # line 6\n",
    "\n",
    "    if j == 1:\n",
    "        x = np.full(n, math.sqrt(1 / n))\n",
    "    else:\n",
    "        x = np.zeros(n)\n",
    "\n",
    "        for k in range(n):\n",
    "            x[k] = math.sqrt(2 / n) * math.cos(math.pi * (k + 1/2) * j / n)\n",
    "\n",
    "    # line 7\n",
    "\n",
    "    y = AD.dot(x)\n",
    "\n",
    "    # line 8\n",
    "\n",
    "    return (n * y.T.dot(A.dot(y)) / 6)"
   ]
  },
  {
   "cell_type": "markdown",
   "metadata": {},
   "source": [
    "# Evaluation\n",
    "\n",
    "Each algorithm is evaluated against several datasets"
   ]
  },
  {
   "cell_type": "code",
   "execution_count": null,
   "metadata": {},
   "outputs": [],
   "source": [
    "def do_test(method, matrix, rounds, correct=None, gamma=None):\n",
    "    results = []\n",
    "    times = []\n",
    "    \n",
    "    for _ in range(rounds):\n",
    "        start = time.time()\n",
    "        ans = method(matrix, gamma)\n",
    "        delta = time.time() - start\n",
    "        times.append(delta)\n",
    "        results.append(ans)\n",
    "    \n",
    "    mean_result = sum(results) / len(results)\n",
    "    mean_time = sum(times) / len(times)\n",
    "    \n",
    "    print(method.__name__)\n",
    "    print(\"Time: {0}\".format(mean_time))\n",
    "    print(\"Answer: {0}\".format(mean_result))\n",
    "    \n",
    "\n",
    "def test_with(matrix, gamma, rounds):\n",
    "    do_test(ExactTriangles, matrix, rounds, gamma=1)\n",
    "    do_test(TraceTriangleN, matrix, rounds, gamma=1)\n",
    "    do_test(TraceTriangleR, matrix, rounds, gamma=1)"
   ]
  },
  {
   "cell_type": "markdown",
   "metadata": {},
   "source": [
    "## 1 triangle"
   ]
  },
  {
   "cell_type": "code",
   "execution_count": null,
   "metadata": {},
   "outputs": [],
   "source": [
    "OneTri = np.zeros((3, 3))\n",
    "i,j = np.indices(OneTri.shape)\n",
    "\n",
    "OneTri[i==j-2] = 1\n",
    "OneTri[i==j-1] = 1\n",
    "OneTri[i==j+1] = 1\n",
    "OneTri[i==j+2] = 1"
   ]
  },
  {
   "cell_type": "markdown",
   "metadata": {},
   "source": [
    "## 10x10 penta-diagonal"
   ]
  },
  {
   "cell_type": "code",
   "execution_count": null,
   "metadata": {},
   "outputs": [],
   "source": [
    "A10 = np.zeros((10,10))\n",
    "i,j = np.indices(A10.shape)\n",
    "\n",
    "A10[i==j-2] = 1\n",
    "A10[i==j-1] = 1\n",
    "A10[i==j+1] = 1\n",
    "A10[i==j+2] = 1"
   ]
  },
  {
   "cell_type": "markdown",
   "metadata": {},
   "source": [
    "## 1000x1000 penta-diagonal"
   ]
  },
  {
   "cell_type": "code",
   "execution_count": null,
   "metadata": {},
   "outputs": [],
   "source": [
    "A1k = np.zeros((1000,1000))\n",
    "i,j = np.indices(A1k.shape)\n",
    "\n",
    "A1k[i==j-2] = 1\n",
    "A1k[i==j-1] = 1\n",
    "A1k[i==j+1] = 1\n",
    "A1k[i==j+2] = 1"
   ]
  },
  {
   "cell_type": "markdown",
   "metadata": {},
   "source": [
    "## 10000x10000 penta-diagonal"
   ]
  },
  {
   "cell_type": "code",
   "execution_count": null,
   "metadata": {},
   "outputs": [],
   "source": [
    "A10k = np.zeros((10000,10000))\n",
    "i,j = np.indices(A10k.shape)\n",
    "\n",
    "A10k[i==j-2] = 1\n",
    "A10k[i==j-1] = 1\n",
    "A10k[i==j+1] = 1\n",
    "A10k[i==j+2] = 1"
   ]
  },
  {
   "cell_type": "code",
   "execution_count": null,
   "metadata": {},
   "outputs": [],
   "source": [
    "test_with(A10k, gamma=1, rounds=1)"
   ]
  },
  {
   "cell_type": "code",
   "execution_count": null,
   "metadata": {},
   "outputs": [],
   "source": []
  },
  {
   "cell_type": "code",
   "execution_count": null,
   "metadata": {},
   "outputs": [],
   "source": []
  }
 ],
 "metadata": {
  "kernelspec": {
   "display_name": "Python 3",
   "language": "python",
   "name": "python3"
  },
  "language_info": {
   "codemirror_mode": {
    "name": "ipython",
    "version": 3
   },
   "file_extension": ".py",
   "mimetype": "text/x-python",
   "name": "python",
   "nbconvert_exporter": "python",
   "pygments_lexer": "ipython3",
   "version": "3.6.3"
  }
 },
 "nbformat": 4,
 "nbformat_minor": 2
}
